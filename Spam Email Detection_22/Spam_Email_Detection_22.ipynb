{
  "nbformat": 4,
  "nbformat_minor": 0,
  "metadata": {
    "colab": {
      "provenance": []
    },
    "kernelspec": {
      "name": "python3",
      "display_name": "Python 3"
    },
    "language_info": {
      "name": "python"
    }
  },
  "cells": [
    {
      "cell_type": "code",
      "execution_count": 11,
      "metadata": {
        "id": "SRd7mscSbLer"
      },
      "outputs": [],
      "source": [
        "import pandas as pd\n",
        "import numpy as np\n",
        "from sklearn.model_selection import train_test_split\n",
        "from sklearn.preprocessing import StandardScaler\n",
        "from sklearn.linear_model import LogisticRegression\n",
        "from sklearn.metrics import classification_report\n",
        "from sklearn.preprocessing import StandardScaler\n",
        "from sklearn.model_selection import train_test_split\n",
        "from sklearn.model_selection import KFold, cross_val_score"
      ]
    },
    {
      "cell_type": "code",
      "source": [
        "np.random.seed(23)"
      ],
      "metadata": {
        "id": "iRcGmwqlbhYk"
      },
      "execution_count": 2,
      "outputs": []
    },
    {
      "cell_type": "code",
      "source": [
        "data = pd.read_csv(\"/content/Spam.csv\", names=[x for x in range(58)])\n"
      ],
      "metadata": {
        "id": "Awqoo6v6bhGw"
      },
      "execution_count": 3,
      "outputs": []
    },
    {
      "cell_type": "code",
      "source": [
        "data = data.sample(frac=1).reset_index(drop=True)\n"
      ],
      "metadata": {
        "id": "jBo2UB83bvlM"
      },
      "execution_count": 4,
      "outputs": []
    },
    {
      "cell_type": "code",
      "source": [
        "Y = data[57]\n",
        "del data[57]\n",
        "X = data"
      ],
      "metadata": {
        "id": "b0PQBKWrbvhv"
      },
      "execution_count": 5,
      "outputs": []
    },
    {
      "cell_type": "code",
      "source": [
        "X_train, X_test, y_train, y_test = train_test_split(X, Y, test_size=0.3)\n"
      ],
      "metadata": {
        "id": "0D6J74Ohb1Sv"
      },
      "execution_count": 6,
      "outputs": []
    },
    {
      "cell_type": "code",
      "source": [
        "scaler = StandardScaler()\n",
        "\n"
      ],
      "metadata": {
        "id": "k_g8lzg2b1PW"
      },
      "execution_count": 15,
      "outputs": []
    },
    {
      "cell_type": "code",
      "source": [
        "clf_cv = LogisticRegression()\n",
        "kf = KFold(n_splits=10, shuffle=True)\n",
        "cv_results = cross_val_score(clf_cv, X_train, y_train, cv=kf, scoring=\"accuracy\", n_jobs=-1)"
      ],
      "metadata": {
        "colab": {
          "base_uri": "https://localhost:8080/"
        },
        "id": "Ag6X9BY3b1M8",
        "outputId": "587b7733-75b9-4914-a618-4c34c8c38d15"
      },
      "execution_count": 8,
      "outputs": [
        {
          "output_type": "stream",
          "name": "stderr",
          "text": [
            "/usr/local/lib/python3.10/dist-packages/sklearn/model_selection/_validation.py:528: FitFailedWarning: \n",
            "9 fits failed out of a total of 10.\n",
            "The score on these train-test partitions for these parameters will be set to nan.\n",
            "If these failures are not expected, you can try to debug them by setting error_score='raise'.\n",
            "\n",
            "Below are more details about the failures:\n",
            "--------------------------------------------------------------------------------\n",
            "9 fits failed with the following error:\n",
            "Traceback (most recent call last):\n",
            "  File \"/usr/local/lib/python3.10/dist-packages/sklearn/model_selection/_validation.py\", line 866, in _fit_and_score\n",
            "    estimator.fit(X_train, y_train, **fit_params)\n",
            "  File \"/usr/local/lib/python3.10/dist-packages/sklearn/base.py\", line 1389, in wrapper\n",
            "    return fit_method(estimator, *args, **kwargs)\n",
            "  File \"/usr/local/lib/python3.10/dist-packages/sklearn/linear_model/_logistic.py\", line 1222, in fit\n",
            "    X, y = validate_data(\n",
            "  File \"/usr/local/lib/python3.10/dist-packages/sklearn/utils/validation.py\", line 2961, in validate_data\n",
            "    X, y = check_X_y(X, y, **check_params)\n",
            "  File \"/usr/local/lib/python3.10/dist-packages/sklearn/utils/validation.py\", line 1370, in check_X_y\n",
            "    X = check_array(\n",
            "  File \"/usr/local/lib/python3.10/dist-packages/sklearn/utils/validation.py\", line 1055, in check_array\n",
            "    array = _asarray_with_order(array, order=order, dtype=dtype, xp=xp)\n",
            "  File \"/usr/local/lib/python3.10/dist-packages/sklearn/utils/_array_api.py\", line 832, in _asarray_with_order\n",
            "    array = numpy.asarray(array, order=order, dtype=dtype)\n",
            "  File \"/usr/local/lib/python3.10/dist-packages/pandas/core/generic.py\", line 2153, in __array__\n",
            "    arr = np.asarray(values, dtype=dtype)\n",
            "ValueError: could not convert string to float: 'word_freq_make'\n",
            "\n",
            "  warnings.warn(some_fits_failed_message, FitFailedWarning)\n"
          ]
        }
      ]
    },
    {
      "cell_type": "code",
      "source": [
        "print(\"\\nCross validation score is: \\n\")\n",
        "print(cv_results)\n",
        "print"
      ],
      "metadata": {
        "colab": {
          "base_uri": "https://localhost:8080/"
        },
        "id": "cfmbnfXfb07X",
        "outputId": "69f682d0-953b-47ff-946a-cd0ddce1aaec"
      },
      "execution_count": 16,
      "outputs": [
        {
          "output_type": "stream",
          "name": "stdout",
          "text": [
            "\n",
            "Cross validation score is: \n",
            "\n",
            "[nan nan nan nan nan nan nan nan nan nan]\n"
          ]
        },
        {
          "output_type": "execute_result",
          "data": {
            "text/plain": [
              "<function print>"
            ]
          },
          "metadata": {},
          "execution_count": 16
        }
      ]
    },
    {
      "cell_type": "code",
      "source": [
        "# This code will be completed soon #\n"
      ],
      "metadata": {
        "id": "usvpyh3icpXU"
      },
      "execution_count": 25,
      "outputs": []
    }
  ]
}